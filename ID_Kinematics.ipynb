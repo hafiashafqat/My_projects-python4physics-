{
  "nbformat": 4,
  "nbformat_minor": 0,
  "metadata": {
    "colab": {
      "provenance": []
    },
    "kernelspec": {
      "name": "python3",
      "display_name": "Python 3"
    },
    "language_info": {
      "name": "python"
    }
  },
  "cells": [
    {
      "cell_type": "markdown",
      "source": [
        "# Problem for 1D Kinematics"
      ],
      "metadata": {
        "id": "zChyFxD8ivW-"
      }
    },
    {
      "cell_type": "markdown",
      "source": [
        "Velocity as a function of time\n",
        "A car starts from rest with an acceleration of\n",
        "\n",
        "𝑎=\n",
        "3\n",
        "\n",
        "m/s\n",
        "2\n",
        "\n",
        "\n",
        "Plot the velocity as a function of time over 10 seconds"
      ],
      "metadata": {
        "id": "CH9CCf7djIU6"
      }
    },
    {
      "cell_type": "markdown",
      "source": [
        "First we'll import all the required libraries and will connect our notebook with our drive."
      ],
      "metadata": {
        "id": "OGs1yJbFlK4g"
      }
    },
    {
      "cell_type": "code",
      "execution_count": null,
      "metadata": {
        "id": "Jv9P8WSBii3s"
      },
      "outputs": [],
      "source": [
        "import numpy as np\n",
        "import matplotlib.pyplot as plt\n",
        "from google.colab import files"
      ]
    },
    {
      "cell_type": "code",
      "source": [
        "from google.colab import drive\n",
        "drive.mount('/content/drive')\n",
        "!mkdir -p \"/content/drive/My Drive/Coding_folder\"\n",
        "filepath=\"drive/My Drive/Coding_folder/\""
      ],
      "metadata": {
        "colab": {
          "base_uri": "https://localhost:8080/"
        },
        "id": "s5nN48E5j7K0",
        "outputId": "a151d337-0cb2-457a-8bb1-ded0d7afc961"
      },
      "execution_count": null,
      "outputs": [
        {
          "output_type": "stream",
          "name": "stdout",
          "text": [
            "Mounted at /content/drive\n"
          ]
        }
      ]
    },
    {
      "cell_type": "markdown",
      "source": [
        "Then I have introduced some given values"
      ],
      "metadata": {
        "id": "VxujWg3Hl6kI"
      }
    },
    {
      "cell_type": "markdown",
      "source": [
        "Now, as we know that we have to use the velocity of time formula, which is equal to initial velocity adds to acceleration times time."
      ],
      "metadata": {
        "id": "ohh15dM9l-u_"
      }
    },
    {
      "cell_type": "code",
      "source": [
        "time= np.arange(0,10,0.1)\n",
        "a= 3 #m/s^2\n",
        "v0= 0 #m/s"
      ],
      "metadata": {
        "id": "ayQOLC7Wn_2E"
      },
      "execution_count": null,
      "outputs": []
    },
    {
      "cell_type": "markdown",
      "source": [
        "I have added a function which in return give a value for velocity of time."
      ],
      "metadata": {
        "id": "T_BsHjLHmu_d"
      }
    },
    {
      "cell_type": "code",
      "source": [
        "def f(time,a,v0):\n",
        "  return v0+a*time"
      ],
      "metadata": {
        "id": "fSRWnQh0mUH9"
      },
      "execution_count": null,
      "outputs": []
    },
    {
      "cell_type": "markdown",
      "source": [
        "Now, I'll print the value of the function"
      ],
      "metadata": {
        "id": "Lp2f5eWim2F8"
      }
    },
    {
      "cell_type": "code",
      "source": [
        "print (\"velocity_as_a_function_of_time=\", f(time,a,v0))"
      ],
      "metadata": {
        "colab": {
          "base_uri": "https://localhost:8080/"
        },
        "id": "D1wU2viUm-uj",
        "outputId": "5e437e7f-7011-44d8-f7b1-5472924664da"
      },
      "execution_count": null,
      "outputs": [
        {
          "output_type": "stream",
          "name": "stdout",
          "text": [
            "velocity_as_a_function_of_time= [ 0.   0.3  0.6  0.9  1.2  1.5  1.8  2.1  2.4  2.7  3.   3.3  3.6  3.9\n",
            "  4.2  4.5  4.8  5.1  5.4  5.7  6.   6.3  6.6  6.9  7.2  7.5  7.8  8.1\n",
            "  8.4  8.7  9.   9.3  9.6  9.9 10.2 10.5 10.8 11.1 11.4 11.7 12.  12.3\n",
            " 12.6 12.9 13.2 13.5 13.8 14.1 14.4 14.7 15.  15.3 15.6 15.9 16.2 16.5\n",
            " 16.8 17.1 17.4 17.7 18.  18.3 18.6 18.9 19.2 19.5 19.8 20.1 20.4 20.7\n",
            " 21.  21.3 21.6 21.9 22.2 22.5 22.8 23.1 23.4 23.7 24.  24.3 24.6 24.9\n",
            " 25.2 25.5 25.8 26.1 26.4 26.7 27.  27.3 27.6 27.9 28.2 28.5 28.8 29.1\n",
            " 29.4 29.7]\n"
          ]
        }
      ]
    },
    {
      "cell_type": "markdown",
      "source": [
        "Now, we'll plot the velocity verses time"
      ],
      "metadata": {
        "id": "V044H11_x-Bf"
      }
    },
    {
      "cell_type": "code",
      "source": [
        "plt.plot(time,f(time,a,v0))\n",
        "plt.xlabel(\"time\")\n",
        "plt.ylabel(\"velocity\")\n",
        "plt.title(\"velocity_as_a_function_of_time\")\n",
        "plt.xlim(0,10)\n",
        "plt.ylim(0,32)\n",
        "plt.grid(True)\n",
        "plt.show()"
      ],
      "metadata": {
        "colab": {
          "base_uri": "https://localhost:8080/",
          "height": 472
        },
        "id": "Bkkqm_9-x9pU",
        "outputId": "e954e4dd-c161-42e8-eb51-88e3992db416"
      },
      "execution_count": null,
      "outputs": [
        {
          "output_type": "display_data",
          "data": {
            "text/plain": [
              "<Figure size 640x480 with 1 Axes>"
            ],
            "image/png": "[encoded data removed]"
          },
          "metadata": {}
        }
      ]
    },
    {
      "cell_type": "markdown",
      "source": [],
      "metadata": {
        "id": "8SmqAA_Wiue3"
      }
    }
  ]
}